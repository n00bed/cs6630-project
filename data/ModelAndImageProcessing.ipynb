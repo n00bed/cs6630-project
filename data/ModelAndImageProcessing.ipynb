{
 "cells": [
  {
   "cell_type": "markdown",
   "metadata": {},
   "source": [
    "# Import graphlab that is used for image processing and model generation"
   ]
  },
  {
   "cell_type": "markdown",
   "metadata": {},
   "source": [
    "To run, install graphlab "
   ]
  },
  {
   "cell_type": "code",
   "execution_count": 2,
   "metadata": {
    "collapsed": false
   },
   "outputs": [],
   "source": [
    "import sys\n",
    "sys.path.append('C:\\Users\\stefhamilton\\Anaconda2\\envs\\gl-env\\Lib\\site-packages')\n",
    "import graphlab as gl"
   ]
  },
  {
   "cell_type": "code",
   "execution_count": 70,
   "metadata": {
    "collapsed": false
   },
   "outputs": [
    {
     "data": {
      "text/html": [
       "<pre>Unsupported image format. Supported formats are JPG and PNG\t file: C:/Users/stefhamilton/v/dataviscourse-pr-behavior-analyst-dashboard/data/unprocessedImages/notRaised.txt</pre>"
      ],
      "text/plain": [
       "Unsupported image format. Supported formats are JPG and PNG\t file: C:/Users/stefhamilton/v/dataviscourse-pr-behavior-analyst-dashboard/data/unprocessedImages/notRaised.txt"
      ]
     },
     "metadata": {},
     "output_type": "display_data"
    }
   ],
   "source": [
    "imagesUrl = 'unprocessedImages/'\n",
    "images = gl.image_analysis.load_images(imagesUrl, \"auto\", with_path=True, recursive=True)"
   ]
  },
  {
   "cell_type": "markdown",
   "metadata": {},
   "source": [
    "Below was used in powershell to create unique image names\n",
    "Get-ChildItem *.jpg | Rename-Item -NewName { $_.Name -replace '\\.jpg','_notRaised.jpg' }\n",
    " "
   ]
  },
  {
   "cell_type": "code",
   "execution_count": 71,
   "metadata": {
    "collapsed": false
   },
   "outputs": [
    {
     "data": {
      "text/html": [
       "<pre>Finished parsing file C:\\Users\\stefhamilton\\v\\dataviscourse-pr-behavior-analyst-dashboard\\data\\classifications\\initialClassifications.csv</pre>"
      ],
      "text/plain": [
       "Finished parsing file C:\\Users\\stefhamilton\\v\\dataviscourse-pr-behavior-analyst-dashboard\\data\\classifications\\initialClassifications.csv"
      ]
     },
     "metadata": {},
     "output_type": "display_data"
    },
    {
     "data": {
      "text/html": [
       "<pre>Parsing completed. Parsed 100 lines in 0.020051 secs.</pre>"
      ],
      "text/plain": [
       "Parsing completed. Parsed 100 lines in 0.020051 secs."
      ]
     },
     "metadata": {},
     "output_type": "display_data"
    },
    {
     "name": "stdout",
     "output_type": "stream",
     "text": [
      "------------------------------------------------------\n",
      "Inferred types from first 100 line(s) of file as \n",
      "column_type_hints=[str,str]\n",
      "If parsing fails due to incorrect types, you can correct\n",
      "the inferred type list above and pass it to read_csv in\n",
      "the column_type_hints argument\n",
      "------------------------------------------------------\n"
     ]
    },
    {
     "data": {
      "text/html": [
       "<pre>Finished parsing file C:\\Users\\stefhamilton\\v\\dataviscourse-pr-behavior-analyst-dashboard\\data\\classifications\\initialClassifications.csv</pre>"
      ],
      "text/plain": [
       "Finished parsing file C:\\Users\\stefhamilton\\v\\dataviscourse-pr-behavior-analyst-dashboard\\data\\classifications\\initialClassifications.csv"
      ]
     },
     "metadata": {},
     "output_type": "display_data"
    },
    {
     "data": {
      "text/html": [
       "<pre>Parsing completed. Parsed 157 lines in 0.025679 secs.</pre>"
      ],
      "text/plain": [
       "Parsing completed. Parsed 157 lines in 0.025679 secs."
      ]
     },
     "metadata": {},
     "output_type": "display_data"
    }
   ],
   "source": [
    "actualClassifications = gl.SFrame.read_csv('classifications\\initialClassifications.csv')"
   ]
  },
  {
   "cell_type": "code",
   "execution_count": 72,
   "metadata": {
    "collapsed": false
   },
   "outputs": [
    {
     "name": "stdout",
     "output_type": "stream",
     "text": [
      "Successfully loaded 154 images, hand raises: 74, non hand raises: 83 \n"
     ]
    }
   ],
   "source": [
    "handRaises = sum(actualClassifications['hasHandRaise']=='Y')\n",
    "nonhandRaises = sum(actualClassifications['hasHandRaise']=='N')\n",
    "if handRaises == 0 :\n",
    "    print \"A problem was encountered when loading images and labels\"\n",
    "else:\n",
    "    print \"Successfully loaded %s images, hand raises: %s, non hand raises: %s \" \\\n",
    "    % (len(images),handRaises, nonhandRaises)"
   ]
  },
  {
   "cell_type": "markdown",
   "metadata": {},
   "source": [
    "# Combine image and labels"
   ]
  },
  {
   "cell_type": "code",
   "execution_count": 73,
   "metadata": {
    "collapsed": true
   },
   "outputs": [],
   "source": [
    "import re"
   ]
  },
  {
   "cell_type": "code",
   "execution_count": 74,
   "metadata": {
    "collapsed": false
   },
   "outputs": [],
   "source": [
    "def addCsvLabelsToImages(images, labels):\n",
    "    hlabel = []\n",
    "    for i in range(0,len(images)):\n",
    "        #print 'i',i,images[i]['path']\n",
    "        m = re.findall('\\/([^\\/]*.jpg)',images[i]['path'])\n",
    "        if len(m) > 1:\n",
    "            print \"Error More than 1 name match found for image \", images[i]['path']\n",
    "        elif len(m) == 0:\n",
    "            print \"No name matches found for image \", images[i]['path']\n",
    "        else:\n",
    "#            print 'labels[image]',labels[labels['image']]\n",
    "            labelMatch = labels[labels['image']==m[0]]\n",
    "            if len(labelMatch)>1:\n",
    "                print \"Error: More than 1 images were found for  \",images[i]['path'], labelMatch\n",
    "            elif len(m) == 0:\n",
    "                print \"Error: No images were matches found for image name \", images[i]['path']\n",
    "            else:\n",
    "                hlabel.append(labelMatch['hasHandRaise'][0] == 'Y')\n",
    "    return hlabel"
   ]
  },
  {
   "cell_type": "code",
   "execution_count": 75,
   "metadata": {
    "collapsed": false
   },
   "outputs": [],
   "source": [
    "images['actualClass'] = addCsvLabelsToImages(images, actualClassifications)"
   ]
  },
  {
   "cell_type": "markdown",
   "metadata": {},
   "source": [
    "# Resize images to match what the model was trained on"
   ]
  },
  {
   "cell_type": "code",
   "execution_count": 76,
   "metadata": {
    "collapsed": true
   },
   "outputs": [],
   "source": [
    "images['image'] = gl.image_analysis.resize(images['image'], 256, 256, 3)"
   ]
  },
  {
   "cell_type": "markdown",
   "metadata": {},
   "source": [
    "# Load the model that was trained on Imagenet images"
   ]
  },
  {
   "cell_type": "markdown",
   "metadata": {},
   "source": [
    "Originally taken from http://s3.amazonaws.com/dato-datasets/deeplearning/imagenet_model_iter45 https://turi.com/products/create/docs/generated/graphlab.neuralnet_classifier.NeuralNetClassifier.extract_features.html?highlight=neuralnet_classifier Reference: Krizhevsky, Alex, Ilya Sutskever, and Geoffrey E. Hinton. “Imagenet classification with deep convolutional neural networks.” Advances in neural information processing systems. 2012.\n",
    "\n",
    "The file is not included in github since it is larger than can be easily added"
   ]
  },
  {
   "cell_type": "code",
   "execution_count": 84,
   "metadata": {
    "collapsed": false
   },
   "outputs": [],
   "source": [
    "pretrained_model = gl.load_model('C:/Users/stefhamilton/Desktop/video-coding/pretrained_imagenet_iter45_model')"
   ]
  },
  {
   "cell_type": "code",
   "execution_count": 105,
   "metadata": {
    "collapsed": true
   },
   "outputs": [],
   "source": [
    "all_data = gl.toolkits.cross_validation.shuffle(images, random_seed=1) # shuffle data so able to get more probabilities for the dashboard\n",
    "all_data['features'] = pretrained_model.extract_features(gl.SFrame(images))\n",
    "all_data.save('images_features_labels_preprocessed')"
   ]
  },
  {
   "cell_type": "markdown",
   "metadata": {},
   "source": [
    "# Load data from here if source files are not changing\n"
   ]
  },
  {
   "cell_type": "code",
   "execution_count": 86,
   "metadata": {
    "collapsed": true
   },
   "outputs": [],
   "source": [
    "#all_data = gl.load_sframe('images_features_labels_preprocessed')"
   ]
  },
  {
   "cell_type": "markdown",
   "metadata": {},
   "source": [
    "# Build Model"
   ]
  },
  {
   "cell_type": "markdown",
   "metadata": {},
   "source": [
    "Skip tuning and just use default parameters"
   ]
  },
  {
   "cell_type": "code",
   "execution_count": 89,
   "metadata": {
    "collapsed": true
   },
   "outputs": [],
   "source": [
    "train_data, test_data = all_data.random_split(.8, seed=10)"
   ]
  },
  {
   "cell_type": "code",
   "execution_count": 101,
   "metadata": {
    "collapsed": false
   },
   "outputs": [
    {
     "data": {
      "text/html": [
       "<pre>WARNING: The number of feature dimensions in this problem is very large in comparison with the number of examples. Unless an appropriate regularization value is set, this model may not provide accurate predictions for a validation/test set.</pre>"
      ],
      "text/plain": [
       "WARNING: The number of feature dimensions in this problem is very large in comparison with the number of examples. Unless an appropriate regularization value is set, this model may not provide accurate predictions for a validation/test set."
      ]
     },
     "metadata": {},
     "output_type": "display_data"
    },
    {
     "data": {
      "text/html": [
       "<pre>WARNING: Detected extremely low variance for feature(s) 'features' because all entries are nearly the same.\n",
       "Proceeding with model training using all features. If the model does not provide results of adequate quality, exclude the above mentioned feature(s) from the input dataset.</pre>"
      ],
      "text/plain": [
       "WARNING: Detected extremely low variance for feature(s) 'features' because all entries are nearly the same.\n",
       "Proceeding with model training using all features. If the model does not provide results of adequate quality, exclude the above mentioned feature(s) from the input dataset."
      ]
     },
     "metadata": {},
     "output_type": "display_data"
    },
    {
     "data": {
      "text/html": [
       "<pre>Logistic regression:</pre>"
      ],
      "text/plain": [
       "Logistic regression:"
      ]
     },
     "metadata": {},
     "output_type": "display_data"
    },
    {
     "data": {
      "text/html": [
       "<pre>--------------------------------------------------------</pre>"
      ],
      "text/plain": [
       "--------------------------------------------------------"
      ]
     },
     "metadata": {},
     "output_type": "display_data"
    },
    {
     "data": {
      "text/html": [
       "<pre>Number of examples          : 119</pre>"
      ],
      "text/plain": [
       "Number of examples          : 119"
      ]
     },
     "metadata": {},
     "output_type": "display_data"
    },
    {
     "data": {
      "text/html": [
       "<pre>Number of classes           : 2</pre>"
      ],
      "text/plain": [
       "Number of classes           : 2"
      ]
     },
     "metadata": {},
     "output_type": "display_data"
    },
    {
     "data": {
      "text/html": [
       "<pre>Number of feature columns   : 1</pre>"
      ],
      "text/plain": [
       "Number of feature columns   : 1"
      ]
     },
     "metadata": {},
     "output_type": "display_data"
    },
    {
     "data": {
      "text/html": [
       "<pre>Number of unpacked features : 4096</pre>"
      ],
      "text/plain": [
       "Number of unpacked features : 4096"
      ]
     },
     "metadata": {},
     "output_type": "display_data"
    },
    {
     "data": {
      "text/html": [
       "<pre>Number of coefficients    : 4097</pre>"
      ],
      "text/plain": [
       "Number of coefficients    : 4097"
      ]
     },
     "metadata": {},
     "output_type": "display_data"
    },
    {
     "data": {
      "text/html": [
       "<pre>Starting Accelerated Gradient (FISTA)</pre>"
      ],
      "text/plain": [
       "Starting Accelerated Gradient (FISTA)"
      ]
     },
     "metadata": {},
     "output_type": "display_data"
    },
    {
     "data": {
      "text/html": [
       "<pre>--------------------------------------------------------</pre>"
      ],
      "text/plain": [
       "--------------------------------------------------------"
      ]
     },
     "metadata": {},
     "output_type": "display_data"
    },
    {
     "data": {
      "text/html": [
       "<pre>+-----------+----------+-----------+--------------+-------------------+---------------------+</pre>"
      ],
      "text/plain": [
       "+-----------+----------+-----------+--------------+-------------------+---------------------+"
      ]
     },
     "metadata": {},
     "output_type": "display_data"
    },
    {
     "data": {
      "text/html": [
       "<pre>| Iteration | Passes   | Step size | Elapsed Time | Training-accuracy | Validation-accuracy |</pre>"
      ],
      "text/plain": [
       "| Iteration | Passes   | Step size | Elapsed Time | Training-accuracy | Validation-accuracy |"
      ]
     },
     "metadata": {},
     "output_type": "display_data"
    },
    {
     "data": {
      "text/html": [
       "<pre>+-----------+----------+-----------+--------------+-------------------+---------------------+</pre>"
      ],
      "text/plain": [
       "+-----------+----------+-----------+--------------+-------------------+---------------------+"
      ]
     },
     "metadata": {},
     "output_type": "display_data"
    },
    {
     "data": {
      "text/html": [
       "<pre>Tuning step size. First iteration could take longer than subsequent iterations.</pre>"
      ],
      "text/plain": [
       "Tuning step size. First iteration could take longer than subsequent iterations."
      ]
     },
     "metadata": {},
     "output_type": "display_data"
    },
    {
     "data": {
      "text/html": [
       "<pre>| 1         | 2        | 0.000301  | 0.348143     | 0.823529          | 0.714286            |</pre>"
      ],
      "text/plain": [
       "| 1         | 2        | 0.000301  | 0.348143     | 0.823529          | 0.714286            |"
      ]
     },
     "metadata": {},
     "output_type": "display_data"
    },
    {
     "data": {
      "text/html": [
       "<pre>| 2         | 3        | 0.000134  | 0.425393     | 0.924370          | 0.885714            |</pre>"
      ],
      "text/plain": [
       "| 2         | 3        | 0.000134  | 0.425393     | 0.924370          | 0.885714            |"
      ]
     },
     "metadata": {},
     "output_type": "display_data"
    },
    {
     "data": {
      "text/html": [
       "<pre>| 3         | 4        | 0.000089  | 0.495128     | 0.924370          | 0.914286            |</pre>"
      ],
      "text/plain": [
       "| 3         | 4        | 0.000089  | 0.495128     | 0.924370          | 0.914286            |"
      ]
     },
     "metadata": {},
     "output_type": "display_data"
    },
    {
     "data": {
      "text/html": [
       "<pre>| 4         | 5        | 0.000089  | 0.549171     | 0.941176          | 0.885714            |</pre>"
      ],
      "text/plain": [
       "| 4         | 5        | 0.000089  | 0.549171     | 0.941176          | 0.885714            |"
      ]
     },
     "metadata": {},
     "output_type": "display_data"
    },
    {
     "data": {
      "text/html": [
       "<pre>| 5         | 6        | 0.000089  | 0.612340     | 0.941176          | 0.885714            |</pre>"
      ],
      "text/plain": [
       "| 5         | 6        | 0.000089  | 0.612340     | 0.941176          | 0.885714            |"
      ]
     },
     "metadata": {},
     "output_type": "display_data"
    },
    {
     "data": {
      "text/html": [
       "<pre>| 6         | 7        | 0.000089  | 0.672498     | 0.957983          | 0.885714            |</pre>"
      ],
      "text/plain": [
       "| 6         | 7        | 0.000089  | 0.672498     | 0.957983          | 0.885714            |"
      ]
     },
     "metadata": {},
     "output_type": "display_data"
    },
    {
     "data": {
      "text/html": [
       "<pre>| 11        | 12       | 0.000089  | 1.028615     | 0.991597          | 0.857143            |</pre>"
      ],
      "text/plain": [
       "| 11        | 12       | 0.000089  | 1.028615     | 0.991597          | 0.857143            |"
      ]
     },
     "metadata": {},
     "output_type": "display_data"
    },
    {
     "data": {
      "text/html": [
       "<pre>| 25        | 26       | 0.000089  | 1.770130     | 1.000000          | 0.885714            |</pre>"
      ],
      "text/plain": [
       "| 25        | 26       | 0.000089  | 1.770130     | 1.000000          | 0.885714            |"
      ]
     },
     "metadata": {},
     "output_type": "display_data"
    },
    {
     "data": {
      "text/html": [
       "<pre>| 50        | 51       | 0.000089  | 2.845404     | 1.000000          | 0.885714            |</pre>"
      ],
      "text/plain": [
       "| 50        | 51       | 0.000089  | 2.845404     | 1.000000          | 0.885714            |"
      ]
     },
     "metadata": {},
     "output_type": "display_data"
    },
    {
     "data": {
      "text/html": [
       "<pre>| 51        | 52       | 0.000089  | 2.894538     | 1.000000          | 0.885714            |</pre>"
      ],
      "text/plain": [
       "| 51        | 52       | 0.000089  | 2.894538     | 1.000000          | 0.885714            |"
      ]
     },
     "metadata": {},
     "output_type": "display_data"
    },
    {
     "data": {
      "text/html": [
       "<pre>| 75        | 76       | 0.000089  | 3.921385     | 1.000000          | 0.914286            |</pre>"
      ],
      "text/plain": [
       "| 75        | 76       | 0.000089  | 3.921385     | 1.000000          | 0.914286            |"
      ]
     },
     "metadata": {},
     "output_type": "display_data"
    },
    {
     "data": {
      "text/html": [
       "<pre>| 100       | 101      | 0.000089  | 4.995411     | 1.000000          | 0.914286            |</pre>"
      ],
      "text/plain": [
       "| 100       | 101      | 0.000089  | 4.995411     | 1.000000          | 0.914286            |"
      ]
     },
     "metadata": {},
     "output_type": "display_data"
    },
    {
     "data": {
      "text/html": [
       "<pre>+-----------+----------+-----------+--------------+-------------------+---------------------+</pre>"
      ],
      "text/plain": [
       "+-----------+----------+-----------+--------------+-------------------+---------------------+"
      ]
     },
     "metadata": {},
     "output_type": "display_data"
    },
    {
     "data": {
      "text/html": [
       "<pre>TERMINATED: Iteration limit reached.</pre>"
      ],
      "text/plain": [
       "TERMINATED: Iteration limit reached."
      ]
     },
     "metadata": {},
     "output_type": "display_data"
    },
    {
     "data": {
      "text/html": [
       "<pre>This model may not be optimal. To improve it, consider increasing `max_iterations`.</pre>"
      ],
      "text/plain": [
       "This model may not be optimal. To improve it, consider increasing `max_iterations`."
      ]
     },
     "metadata": {},
     "output_type": "display_data"
    }
   ],
   "source": [
    "model = gl.logistic_classifier.create(train_data, features = ['features'], target='actualClass',\\\n",
    "        max_iterations=100, l1_penalty=.00001, l2_penalty=20,   \\\n",
    "        verbose=True, class_weights={1L:1,0L:1}, convergence_threshold=.00001, validation_set=test_data) "
   ]
  },
  {
   "cell_type": "code",
   "execution_count": 108,
   "metadata": {
    "collapsed": true
   },
   "outputs": [],
   "source": [
    "test_data['prob'] = model.predict(test_data, output_type='probability')"
   ]
  },
  {
   "cell_type": "code",
   "execution_count": 110,
   "metadata": {
    "collapsed": false
   },
   "outputs": [],
   "source": [
    "test_data.export_csv('test_data_predictions.csv')"
   ]
  },
  {
   "cell_type": "code",
   "execution_count": 106,
   "metadata": {
    "collapsed": false
   },
   "outputs": [
    {
     "data": {
      "text/html": [
       "<div style=\"max-height:1000px;max-width:1500px;overflow:auto;\"><table frame=\"box\" rules=\"cols\">\n",
       "    <tr>\n",
       "        <th style=\"padding-left: 1em; padding-right: 1em; text-align: center\">path</th>\n",
       "        <th style=\"padding-left: 1em; padding-right: 1em; text-align: center\">image</th>\n",
       "        <th style=\"padding-left: 1em; padding-right: 1em; text-align: center\">actualClass</th>\n",
       "        <th style=\"padding-left: 1em; padding-right: 1em; text-align: center\">features</th>\n",
       "    </tr>\n",
       "    <tr>\n",
       "        <td style=\"padding-left: 1em; padding-right: 1em; text-align: center; vertical-align: top\">C:/Users/stefhamilton/v<br>/dataviscourse-pr- ...</td>\n",
       "        <td style=\"padding-left: 1em; padding-right: 1em; text-align: center; vertical-align: top\">Height: 256 Width: 256</td>\n",
       "        <td style=\"padding-left: 1em; padding-right: 1em; text-align: center; vertical-align: top\">1</td>\n",
       "        <td style=\"padding-left: 1em; padding-right: 1em; text-align: center; vertical-align: top\">[0.0, 0.0, 0.0, 0.0,<br>0.692548274994, 0.0,  ...</td>\n",
       "    </tr>\n",
       "    <tr>\n",
       "        <td style=\"padding-left: 1em; padding-right: 1em; text-align: center; vertical-align: top\">C:/Users/stefhamilton/v<br>/dataviscourse-pr- ...</td>\n",
       "        <td style=\"padding-left: 1em; padding-right: 1em; text-align: center; vertical-align: top\">Height: 256 Width: 256</td>\n",
       "        <td style=\"padding-left: 1em; padding-right: 1em; text-align: center; vertical-align: top\">1</td>\n",
       "        <td style=\"padding-left: 1em; padding-right: 1em; text-align: center; vertical-align: top\">[0.0, 0.0, 0.0,<br>2.02316689491, ...</td>\n",
       "    </tr>\n",
       "    <tr>\n",
       "        <td style=\"padding-left: 1em; padding-right: 1em; text-align: center; vertical-align: top\">C:/Users/stefhamilton/v<br>/dataviscourse-pr- ...</td>\n",
       "        <td style=\"padding-left: 1em; padding-right: 1em; text-align: center; vertical-align: top\">Height: 256 Width: 256</td>\n",
       "        <td style=\"padding-left: 1em; padding-right: 1em; text-align: center; vertical-align: top\">0</td>\n",
       "        <td style=\"padding-left: 1em; padding-right: 1em; text-align: center; vertical-align: top\">[0.0, 0.0, 2.5354218483,<br>0.348499953747, ...</td>\n",
       "    </tr>\n",
       "    <tr>\n",
       "        <td style=\"padding-left: 1em; padding-right: 1em; text-align: center; vertical-align: top\">C:/Users/stefhamilton/v<br>/dataviscourse-pr- ...</td>\n",
       "        <td style=\"padding-left: 1em; padding-right: 1em; text-align: center; vertical-align: top\">Height: 256 Width: 256</td>\n",
       "        <td style=\"padding-left: 1em; padding-right: 1em; text-align: center; vertical-align: top\">0</td>\n",
       "        <td style=\"padding-left: 1em; padding-right: 1em; text-align: center; vertical-align: top\">[0.0, 0.0, 0.0, 0.0, 0.0,<br>0.287137448788, 0.0,  ...</td>\n",
       "    </tr>\n",
       "    <tr>\n",
       "        <td style=\"padding-left: 1em; padding-right: 1em; text-align: center; vertical-align: top\">C:/Users/stefhamilton/v<br>/dataviscourse-pr- ...</td>\n",
       "        <td style=\"padding-left: 1em; padding-right: 1em; text-align: center; vertical-align: top\">Height: 256 Width: 256</td>\n",
       "        <td style=\"padding-left: 1em; padding-right: 1em; text-align: center; vertical-align: top\">0</td>\n",
       "        <td style=\"padding-left: 1em; padding-right: 1em; text-align: center; vertical-align: top\">[0.0, 0.0, 0.0, 0.0, 0.0,<br>0.0, 0.0, 0.0, 0.0, ...</td>\n",
       "    </tr>\n",
       "    <tr>\n",
       "        <td style=\"padding-left: 1em; padding-right: 1em; text-align: center; vertical-align: top\">C:/Users/stefhamilton/v<br>/dataviscourse-pr- ...</td>\n",
       "        <td style=\"padding-left: 1em; padding-right: 1em; text-align: center; vertical-align: top\">Height: 256 Width: 256</td>\n",
       "        <td style=\"padding-left: 1em; padding-right: 1em; text-align: center; vertical-align: top\">0</td>\n",
       "        <td style=\"padding-left: 1em; padding-right: 1em; text-align: center; vertical-align: top\">[0.0, 0.0, 0.0,<br>0.187218368053, ...</td>\n",
       "    </tr>\n",
       "    <tr>\n",
       "        <td style=\"padding-left: 1em; padding-right: 1em; text-align: center; vertical-align: top\">C:/Users/stefhamilton/v<br>/dataviscourse-pr- ...</td>\n",
       "        <td style=\"padding-left: 1em; padding-right: 1em; text-align: center; vertical-align: top\">Height: 256 Width: 256</td>\n",
       "        <td style=\"padding-left: 1em; padding-right: 1em; text-align: center; vertical-align: top\">1</td>\n",
       "        <td style=\"padding-left: 1em; padding-right: 1em; text-align: center; vertical-align: top\">[0.0, 0.0, 0.0,<br>3.59831476212, ...</td>\n",
       "    </tr>\n",
       "    <tr>\n",
       "        <td style=\"padding-left: 1em; padding-right: 1em; text-align: center; vertical-align: top\">C:/Users/stefhamilton/v<br>/dataviscourse-pr- ...</td>\n",
       "        <td style=\"padding-left: 1em; padding-right: 1em; text-align: center; vertical-align: top\">Height: 256 Width: 256</td>\n",
       "        <td style=\"padding-left: 1em; padding-right: 1em; text-align: center; vertical-align: top\">1</td>\n",
       "        <td style=\"padding-left: 1em; padding-right: 1em; text-align: center; vertical-align: top\">[0.0, 0.0, 0.0,<br>3.37315511703, 0.0, 0.0, ...</td>\n",
       "    </tr>\n",
       "    <tr>\n",
       "        <td style=\"padding-left: 1em; padding-right: 1em; text-align: center; vertical-align: top\">C:/Users/stefhamilton/v<br>/dataviscourse-pr- ...</td>\n",
       "        <td style=\"padding-left: 1em; padding-right: 1em; text-align: center; vertical-align: top\">Height: 256 Width: 256</td>\n",
       "        <td style=\"padding-left: 1em; padding-right: 1em; text-align: center; vertical-align: top\">0</td>\n",
       "        <td style=\"padding-left: 1em; padding-right: 1em; text-align: center; vertical-align: top\">[0.0, 0.0254239439964,<br>0.0, 0.399780213833,  ...</td>\n",
       "    </tr>\n",
       "    <tr>\n",
       "        <td style=\"padding-left: 1em; padding-right: 1em; text-align: center; vertical-align: top\">C:/Users/stefhamilton/v<br>/dataviscourse-pr- ...</td>\n",
       "        <td style=\"padding-left: 1em; padding-right: 1em; text-align: center; vertical-align: top\">Height: 256 Width: 256</td>\n",
       "        <td style=\"padding-left: 1em; padding-right: 1em; text-align: center; vertical-align: top\">1</td>\n",
       "        <td style=\"padding-left: 1em; padding-right: 1em; text-align: center; vertical-align: top\">[0.0, 0.0, 0.0,<br>2.47744560242, ...</td>\n",
       "    </tr>\n",
       "</table>\n",
       "[154 rows x 4 columns]<br/>Note: Only the head of the SFrame is printed.<br/>You can use print_rows(num_rows=m, num_columns=n) to print more rows and columns.\n",
       "</div>"
      ],
      "text/plain": [
       "Columns:\n",
       "\tpath\tstr\n",
       "\timage\tImage\n",
       "\tactualClass\tint\n",
       "\tfeatures\tarray\n",
       "\n",
       "Rows: 154\n",
       "\n",
       "Data:\n",
       "+-------------------------------+------------------------+-------------+\n",
       "|              path             |         image          | actualClass |\n",
       "+-------------------------------+------------------------+-------------+\n",
       "| C:/Users/stefhamilton/v/da... | Height: 256 Width: 256 |      1      |\n",
       "| C:/Users/stefhamilton/v/da... | Height: 256 Width: 256 |      1      |\n",
       "| C:/Users/stefhamilton/v/da... | Height: 256 Width: 256 |      0      |\n",
       "| C:/Users/stefhamilton/v/da... | Height: 256 Width: 256 |      0      |\n",
       "| C:/Users/stefhamilton/v/da... | Height: 256 Width: 256 |      0      |\n",
       "| C:/Users/stefhamilton/v/da... | Height: 256 Width: 256 |      0      |\n",
       "| C:/Users/stefhamilton/v/da... | Height: 256 Width: 256 |      1      |\n",
       "| C:/Users/stefhamilton/v/da... | Height: 256 Width: 256 |      1      |\n",
       "| C:/Users/stefhamilton/v/da... | Height: 256 Width: 256 |      0      |\n",
       "| C:/Users/stefhamilton/v/da... | Height: 256 Width: 256 |      1      |\n",
       "+-------------------------------+------------------------+-------------+\n",
       "+-------------------------------+\n",
       "|            features           |\n",
       "+-------------------------------+\n",
       "| [0.0, 0.0, 0.0, 0.0, 0.692... |\n",
       "| [0.0, 0.0, 0.0, 2.02316689... |\n",
       "| [0.0, 0.0, 2.5354218483, 0... |\n",
       "| [0.0, 0.0, 0.0, 0.0, 0.0, ... |\n",
       "| [0.0, 0.0, 0.0, 0.0, 0.0, ... |\n",
       "| [0.0, 0.0, 0.0, 0.18721836... |\n",
       "| [0.0, 0.0, 0.0, 3.59831476... |\n",
       "| [0.0, 0.0, 0.0, 3.37315511... |\n",
       "| [0.0, 0.0254239439964, 0.0... |\n",
       "| [0.0, 0.0, 0.0, 2.47744560... |\n",
       "+-------------------------------+\n",
       "[154 rows x 4 columns]\n",
       "Note: Only the head of the SFrame is printed.\n",
       "You can use print_rows(num_rows=m, num_columns=n) to print more rows and columns."
      ]
     },
     "execution_count": 106,
     "metadata": {},
     "output_type": "execute_result"
    }
   ],
   "source": [
    "all_data"
   ]
  },
  {
   "cell_type": "code",
   "execution_count": null,
   "metadata": {
    "collapsed": true
   },
   "outputs": [],
   "source": []
  }
 ],
 "metadata": {
  "kernelspec": {
   "display_name": "Python 2",
   "language": "python",
   "name": "python2"
  },
  "language_info": {
   "codemirror_mode": {
    "name": "ipython",
    "version": 2
   },
   "file_extension": ".py",
   "mimetype": "text/x-python",
   "name": "python",
   "nbconvert_exporter": "python",
   "pygments_lexer": "ipython2",
   "version": "2.7.12"
  }
 },
 "nbformat": 4,
 "nbformat_minor": 0
}
